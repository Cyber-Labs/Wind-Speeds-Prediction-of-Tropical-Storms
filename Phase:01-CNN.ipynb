{
 "cells": [
  {
   "cell_type": "code",
   "execution_count": 1,
   "metadata": {},
   "outputs": [],
   "source": [
    "from timm.utils import AverageMeter\n",
    "from timm.models import *\n",
    "from timm.loss import SoftTargetCrossEntropy\n",
    "import timm\n",
    "\n",
    "import torch\n",
    "import torch.nn as nn\n",
    "from torch.utils.data import Dataset, DataLoader\n",
    "import torch.nn.functional as F\n",
    "\n",
    "from torch_optimizer import Ranger\n",
    "import ttach as tta\n",
    "\n",
    "import cv2\n",
    "import numpy as np\n",
    "import matplotlib.pyplot as plt\n",
    "\n",
    "import glob\n",
    "import os\n",
    "import random\n",
    "import math\n",
    "import pandas as pd\n",
    "import torch.utils.model_zoo as model_zoo\n",
    "\n",
    "from tqdm import tqdm_notebook\n",
    "\n",
    "import warnings\n",
    "warnings.filterwarnings(\"ignore\")"
   ]
  },
  {
   "cell_type": "markdown",
   "metadata": {},
   "source": [
    "### Preparing Dataframe"
   ]
  },
  {
   "cell_type": "markdown",
   "metadata": {},
   "source": [
    "## Configuration"
   ]
  },
  {
   "cell_type": "code",
   "execution_count": 2,
   "metadata": {},
   "outputs": [],
   "source": [
    "class config:\n",
    "    BASE_LR = 1e-4\n",
    "    NUM_CLASSES = 20\n",
    "    BIN_SIZE = int(200/NUM_CLASSES)\n",
    "    NUM_EPOCHS = 8\n",
    "    MODEL_NAMES = [\"mixnet_xl\", \"dpn68b\", \"mixnet_l\", \"efficientnet_es\", \"mobilenetv3_large_100\", \"seresnext26t_32x4d\"]\n",
    "    MODEL_NAME = None\n",
    "    OPTIMIZER_NAME = \"Ranger\"\n",
    "    FILE_PREFIX = \"stack2-cyclr-oldaug\"\n",
    "    STACK = 2\n",
    "    SEED = 43\n",
    "    IMG_SIZE = 320\n",
    "    MEAN = [0.485, 0.456, 0.406]\n",
    "    STD = [0.229, 0.224, 0.225]\n",
    "    BATCH_SIZES = [64]*len(MODEL_NAMES)\n",
    "    BATCH_SIZE = 32\n",
    "    WORKERS = 8\n",
    "    FOLD = [0, 1, 2, 3, 4]\n",
    "    DEBUG = False\n",
    "    MODE = 6 #{0: Train; 1: Val Logits; 2: Test Logits; 3: ALL; 4: Embeddings; 5: Train Logits}"
   ]
  },
  {
   "cell_type": "code",
   "execution_count": 3,
   "metadata": {},
   "outputs": [],
   "source": [
    "def seed_everything(seed):\n",
    "    random.seed(seed)\n",
    "    os.environ['PYTHONHASHSEED'] = str(seed)\n",
    "    np.random.seed(seed)\n",
    "    torch.manual_seed(seed)\n",
    "    torch.cuda.manual_seed(seed)\n",
    "    torch.backends.cudnn.deterministic = True\n",
    "seed_everything(config.SEED)"
   ]
  },
  {
   "cell_type": "markdown",
   "metadata": {},
   "source": [
    "## Dataloader"
   ]
  },
  {
   "cell_type": "code",
   "execution_count": 4,
   "metadata": {},
   "outputs": [],
   "source": [
    "from albumentations import (\n",
    "    HorizontalFlip, VerticalFlip, ShiftScaleRotate, Transpose, HueSaturationValue, MotionBlur, \n",
    "    RandomResizedCrop, RandomBrightnessContrast, OneOf, Compose, Normalize, Cutout, CoarseDropout,\n",
    "    CenterCrop, Resize, RandomCrop, CenterCrop\n",
    ")\n",
    "\n",
    "from albumentations.pytorch import ToTensorV2\n",
    "\n",
    "def get_train_transforms():\n",
    "    return Compose([\n",
    "            RandomCrop(config.IMG_SIZE, config.IMG_SIZE),\n",
    "            Transpose(p=0.5),\n",
    "            HorizontalFlip(p=0.5),\n",
    "            VerticalFlip(p=0.5),\n",
    "            ShiftScaleRotate(p=0.5),\n",
    "            Normalize(mean=config.MEAN, std=config.STD, max_pixel_value=255.0, p=1.0),\n",
    "            ToTensorV2(p=1.0),\n",
    "        ], p=1.)\n",
    "  \n",
    "        \n",
    "def get_valid_transforms(tta=False):\n",
    "    aug = []\n",
    "    if not tta: aug.extend([CenterCrop(config.IMG_SIZE, config.IMG_SIZE)])\n",
    "    aug.extend([\n",
    "            Normalize(mean=config.MEAN, std=config.STD, max_pixel_value=255.0, p=1.0),\n",
    "            ToTensorV2(p=1.0),\n",
    "        ])\n",
    "    return Compose(aug)\n",
    "\n",
    "train_transform = get_train_transforms()\n",
    "valid_transform = get_valid_transforms()\n",
    "tta_test_transform = get_valid_transforms(tta=True)\n",
    "\n",
    "tta_transforms = tta.Compose(\n",
    "    [\n",
    "#         tta.HorizontalFlip(),\n",
    "#         tta.VerticalFlip(),\n",
    "        tta.FiveCrops(config.IMG_SIZE, config.IMG_SIZE)  \n",
    "    ]\n",
    ")"
   ]
  },
  {
   "cell_type": "code",
   "execution_count": 5,
   "metadata": {},
   "outputs": [],
   "source": [
    "class DatasetWIND(Dataset):\n",
    "    \"\"\"Reads in an image, transforms pixel values, and serves\n",
    "    a dictionary containing the image id, image tensors, and label.\n",
    "    \"\"\"\n",
    "\n",
    "    def __init__(self, df, df_train, transforms = None, phase='train'):\n",
    "        self.data = df.reset_index(drop=True)\n",
    "        self.data_train = df_train.reset_index(drop=True)\n",
    "        self.label = df.wind_speed\n",
    "        self.transform = transforms\n",
    "        \n",
    "    def __len__(self):\n",
    "        return len(self.data)\n",
    "\n",
    "    def __getitem__(self, index):\n",
    "        image = cv2.imread(self.data.iloc[index][\"file_name\"])\n",
    "        temp = image\n",
    "        index_train = self.data_train[self.data_train.image_id==self.data.image_id.iloc[index]].index.values[0]\n",
    "        if index_train-config.STACK<0:\n",
    "            image = image\n",
    "        else:\n",
    "            image_num = int(self.data_train.image_id.iloc[index_train].split('_')[-1])\n",
    "            image_nump = int(self.data_train.image_id.iloc[index_train-1].split('_')[-1])\n",
    "            image_numpp = int(self.data_train.image_id.iloc[index_train-2].split('_')[-1])\n",
    "            if image_numpp-image_num==-2:\n",
    "                image[...,1] = cv2.imread(self.data_train.iloc[index_train-1][\"file_name\"])[...,0]\n",
    "                image[...,0] = cv2.imread(self.data_train.iloc[index_train-2][\"file_name\"])[...,0]\n",
    "            else:\n",
    "                image = image\n",
    "                \n",
    "        if self.transform is not None:\n",
    "            image = self.transform(image=image)[\"image\"]\n",
    "        if self.label is not None:\n",
    "            wind_speed = self.label.iloc[index].astype(float)\n",
    "            label = np.zeros(config.NUM_CLASSES)\n",
    "            label[:int(wind_speed//config.BIN_SIZE)]=1.\n",
    "            label[int(wind_speed//config.BIN_SIZE)]=(wind_speed%config.BIN_SIZE)/config.BIN_SIZE\n",
    "            return image, label.astype(np.float32)\n",
    "        else:\n",
    "            return image"
   ]
  },
  {
   "cell_type": "markdown",
   "metadata": {},
   "source": [
    "## Training"
   ]
  },
  {
   "cell_type": "code",
   "execution_count": 6,
   "metadata": {},
   "outputs": [],
   "source": [
    "def run_epoch(model, loss_fn, optimizer, phase, scheduler=None):\n",
    "    running_loss = AverageMeter()\n",
    "    tk1 = tqdm_notebook(dataloaders[phase], total=len(dataloaders[phase]))\n",
    "    if phase == \"train\":\n",
    "        model.train()\n",
    "        for x_var, y_var in tk1:\n",
    "            bs = x_var.shape[0]\n",
    "            x_var = x_var.to(device=device)\n",
    "            y_var = y_var.to(device=device)\n",
    "            \n",
    "            with torch.cuda.amp.autocast():\n",
    "                scores = model(x_var)\n",
    "                loss = loss_fn(scores, y_var)            \n",
    "            running_loss.update(loss.item(), n=bs)\n",
    "            tk1.set_postfix(loss=running_loss.avg)\n",
    "            optimizer.zero_grad()\n",
    "            scaler.scale(loss).backward()\n",
    "            scaler.step(optimizer)\n",
    "            if scheduler is not None:\n",
    "                scheduler.step()\n",
    "            scaler.update()\n",
    "\n",
    "            if config.DEBUG: break\n",
    "        return running_loss.avg\n",
    "    else:\n",
    "        model.eval()\n",
    "        y_true = np.array([])\n",
    "        y_pred = np.array([])\n",
    "        running_mse = AverageMeter()\n",
    "        with torch.no_grad():\n",
    "            for x_var, y_var in tk1:\n",
    "                bs = x_var.shape[0]\n",
    "                x_var = x_var.to(device=device)\n",
    "                y_var = y_var.to(device=device)\n",
    "                with torch.cuda.amp.autocast():\n",
    "                    scores = model(x_var)\n",
    "                    loss = loss_fn(scores, y_var)\n",
    "                \n",
    "                scores = torch.sum(F.sigmoid(scores), 1)*config.BIN_SIZE\n",
    "                y_var = torch.sum(y_var, 1)*config.BIN_SIZE\n",
    "                    \n",
    "                \n",
    "                running_loss.update(loss.item(), n=bs)\n",
    "                \n",
    "                y_var = y_var.cpu().detach().numpy()\n",
    "                scores = scores.cpu().detach().numpy()\n",
    "                \n",
    "                mse = np.sum((scores-y_var)**2)/bs\n",
    "                running_mse.update(mse, n=bs)\n",
    "                tk1.set_postfix(loss=running_loss.avg, rmse=math.sqrt(running_mse.avg))\n",
    "                if config.DEBUG: break\n",
    "        rmse = math.sqrt(running_mse.avg)\n",
    "        return running_loss.avg, rmse"
   ]
  },
  {
   "cell_type": "code",
   "execution_count": 7,
   "metadata": {
    "scrolled": false
   },
   "outputs": [],
   "source": [
    "if config.MODE in [0,3]:\n",
    "    for config.MODEL_NAME, config.BATCH_SIZE in zip(config.MODEL_NAMES, config.BATCH_SIZES):\n",
    "        for fold in config.FOLD:\n",
    "            scaler = torch.cuda.amp.GradScaler()\n",
    "            X = pd.read_csv('new_split.csv')\n",
    "            train = X[X.fold!=fold]\n",
    "            val = X[X.fold==fold]\n",
    "            device = torch.device(\"cuda\" if torch.cuda.is_available() else \"cpu\")\n",
    "\n",
    "            train_losses = []\n",
    "            valid_losses = []\n",
    "            valid_rmse = []\n",
    "\n",
    "            trainset = DatasetWIND(train, train, transforms = train_transform, phase = 'train')\n",
    "            validset = DatasetWIND(val, X, transforms = valid_transform, phase = 'val')\n",
    "\n",
    "            train_loader = DataLoader(trainset, config.BATCH_SIZE, num_workers=config.WORKERS, shuffle=True, pin_memory=True)\n",
    "            valid_loader = DataLoader(validset, config.BATCH_SIZE, num_workers=config.WORKERS, shuffle=False, pin_memory=True)\n",
    "\n",
    "            dataloaders = {\n",
    "                \"train\" : train_loader,\n",
    "                \"valid\" : valid_loader,\n",
    "            }\n",
    "\n",
    "            model = globals()[config.MODEL_NAME](pretrained=True, num_classes=config.NUM_CLASSES, in_chans=config.STACK+1)\n",
    "        #     load_pretrained(model)\n",
    "            model.to(device)\n",
    "            criterion = nn.BCEWithLogitsLoss()\n",
    "            optimizer = globals()[config.OPTIMIZER_NAME](model.parameters(), lr=config.BASE_LR)\n",
    "            scheduler = torch.optim.lr_scheduler.CyclicLR(optimizer, config.BASE_LR, config.BASE_LR*10, step_size_up=len(train_loader)//2, cycle_momentum=False)\n",
    "            best_rmse = 10000\n",
    "            for epoch in range(config.NUM_EPOCHS):\n",
    "                print('Starting epoch [%d / %d]' % (epoch + 1, config.NUM_EPOCHS))\n",
    "                train_loss = run_epoch(model, criterion, optimizer, \"train\", scheduler)\n",
    "                valid_loss, rmse = run_epoch(model, criterion, optimizer, \"valid\")\n",
    "\n",
    "\n",
    "                if rmse<best_rmse:\n",
    "                    print(\"**Saving model**\")\n",
    "                    best_rmse=rmse\n",
    "                    torch.save({\n",
    "                        \"epoch\": epoch + 1,\n",
    "                        \"state_dict\" : model.state_dict(),\n",
    "                        \"rmse\" : best_rmse,\n",
    "                        \"optim_dict\" : optimizer.state_dict(),\n",
    "                        \"config_class\" : config\n",
    "                    }, f\"models/{config.MODEL_NAME}_{config.FILE_PREFIX}_FOLD{fold}.pth\")\n",
    "\n",
    "                train_losses.append(train_loss)\n",
    "                valid_losses.append(valid_loss)\n",
    "                valid_rmse.append(rmse)\n",
    "                df_data=np.array([train_losses, valid_losses, valid_rmse]).T\n",
    "                df = pd.DataFrame(df_data, columns = ['train_losses','valid_losses','valid_rmse'])\n",
    "                df.to_csv(f'logs/{config.MODEL_NAME}_{config.FILE_PREFIX}_FOLD{fold}.csv')\n",
    "                if config.DEBUG: break"
   ]
  },
  {
   "cell_type": "markdown",
   "metadata": {},
   "source": [
    "## Validation logits"
   ]
  },
  {
   "cell_type": "code",
   "execution_count": 8,
   "metadata": {},
   "outputs": [
    {
     "name": "stdout",
     "output_type": "stream",
     "text": [
      "mkdir: cannot create directory ‘val_npys’: File exists\r\n"
     ]
    }
   ],
   "source": [
    "mkdir val_npys"
   ]
  },
  {
   "cell_type": "code",
   "execution_count": 9,
   "metadata": {},
   "outputs": [],
   "source": [
    "if config.MODE in [1, 3]:\n",
    "    for config.MODEL_NAME, config.BATCH_SIZE in zip(config.MODEL_NAMES, config.BATCH_SIZES):\n",
    "        for fold in config.FOLD:\n",
    "            X = pd.read_csv('new_split.csv')\n",
    "            train = X[X.fold!=fold]\n",
    "            val = X[X.fold==fold]\n",
    "\n",
    "#             x_val = val.drop(\"wind_speed\", axis=1)\n",
    "#             y_val = val.wind_speed\n",
    "            validset = DatasetWIND(val, X, transforms = valid_transform, phase = 'val')\n",
    "            valid_loader = DataLoader(validset, config.BATCH_SIZE, num_workers=config.WORKERS, shuffle=False, pin_memory=True)\n",
    "            device = torch.device(\"cuda\" if torch.cuda.is_available() else \"cpu\")\n",
    "            model = globals()[config.MODEL_NAME](pretrained=True, num_classes=config.NUM_CLASSES)\n",
    "            model.load_state_dict(torch.load(f\"models/{config.MODEL_NAME}_{config.FILE_PREFIX}_FOLD{fold}.pth\")[\"state_dict\"])\n",
    "            model.to(device)\n",
    "            model.eval()\n",
    "            y_logits = []\n",
    "            tk1 = tqdm_notebook(valid_loader, total=len(valid_loader))\n",
    "            with torch.no_grad():\n",
    "                for x_var, y_var in tk1:\n",
    "                    bs = x_var.shape[0]\n",
    "                    scores = model(x_var.to(device))\n",
    "                    y_logits.append((F.sigmoid(scores)))\n",
    "\n",
    "            y_logits = torch.cat(y_logits).cpu().numpy()\n",
    "            np.save(f'val_npys/{config.MODEL_NAME}_{config.FILE_PREFIX}_val_preds_fold_{fold}.npy', y_logits)"
   ]
  },
  {
   "cell_type": "markdown",
   "metadata": {},
   "source": [
    "## Train Logits"
   ]
  },
  {
   "cell_type": "code",
   "execution_count": 10,
   "metadata": {},
   "outputs": [
    {
     "name": "stdout",
     "output_type": "stream",
     "text": [
      "mkdir: cannot create directory ‘train_npys’: File exists\r\n"
     ]
    }
   ],
   "source": [
    "mkdir train_npys"
   ]
  },
  {
   "cell_type": "code",
   "execution_count": 11,
   "metadata": {},
   "outputs": [],
   "source": [
    "if config.MODE in [5, 3]:\n",
    "    for config.MODEL_NAME, config.BATCH_SIZE in zip(config.MODEL_NAMES, config.BATCH_SIZES):\n",
    "        for fold in config.FOLD:\n",
    "            X = pd.read_csv('new_split.csv')\n",
    "            train = X[X.fold!=fold]\n",
    "            val = X[X.fold==fold]\n",
    "\n",
    "#             x_train = train.drop(\"wind_speed\", axis=1)\n",
    "#             y_train = train.wind_speed\n",
    "            trainset = DatasetWIND(train, X, transforms = valid_transform, phase = 'val')\n",
    "            train_loader = DataLoader(trainset, config.BATCH_SIZE, num_workers=config.WORKERS, shuffle=False, pin_memory=True)\n",
    "            device = torch.device(\"cuda\" if torch.cuda.is_available() else \"cpu\")\n",
    "            model = globals()[config.MODEL_NAME](pretrained=False, num_classes=config.NUM_CLASSES)\n",
    "            model.load_state_dict(torch.load(f\"models/{config.MODEL_NAME}_{config.FILE_PREFIX}_FOLD{fold}.pth\")[\"state_dict\"])\n",
    "            model.to(device)\n",
    "            model.eval()\n",
    "            y_logits = []\n",
    "            tk1 = tqdm_notebook(train_loader, total=len(train_loader))\n",
    "            with torch.no_grad():\n",
    "                for x_var, y_var in tk1:\n",
    "                    bs = x_var.shape[0]\n",
    "                    scores = model(x_var.to(device))\n",
    "                    y_logits.append((F.sigmoid(scores)))\n",
    "\n",
    "            y_logits = torch.cat(y_logits).cpu().numpy()\n",
    "            np.save(f'train_npys/{config.MODEL_NAME}_{config.FILE_PREFIX}_train_preds_fold_{fold}.npy', y_logits)"
   ]
  },
  {
   "cell_type": "markdown",
   "metadata": {},
   "source": [
    "## Test Logits"
   ]
  },
  {
   "cell_type": "code",
   "execution_count": 12,
   "metadata": {},
   "outputs": [
    {
     "name": "stdout",
     "output_type": "stream",
     "text": [
      "mkdir: cannot create directory ‘test_npys’: File exists\r\n"
     ]
    }
   ],
   "source": [
    "mkdir test_npys"
   ]
  },
  {
   "cell_type": "code",
   "execution_count": 13,
   "metadata": {},
   "outputs": [],
   "source": [
    "x_test = pd.read_csv('data/test_set_features.csv')\n",
    "x_test[\"file_name\"] = \"data/test/test/\"+x_test.image_id+\".jpg\""
   ]
  },
  {
   "cell_type": "code",
   "execution_count": 14,
   "metadata": {},
   "outputs": [],
   "source": [
    "# testset = DatasetWIND(x_train = x_test, y_train = None, transforms = tta_test_transform, phase = 'test')\n",
    "# test_loader = DataLoader(testset, config.BATCH_SIZE*4, num_workers=config.WORKERS, shuffle=False, pin_memory=True)"
   ]
  },
  {
   "cell_type": "code",
   "execution_count": 15,
   "metadata": {
    "scrolled": false
   },
   "outputs": [],
   "source": [
    "if config.MODE in [2, 3]:\n",
    "    for config.MODEL_NAME, config.BATCH_SIZE in zip(config.MODEL_NAMES, config.BATCH_SIZES):\n",
    "        PREDS = np.zeros(len(testset))\n",
    "        device = torch.device(\"cuda\" if torch.cuda.is_available() else \"cpu\")\n",
    "        for fold in config.FOLD:\n",
    "            model = globals()[config.MODEL_NAME](pretrained=True, num_classes=config.NUM_CLASSES)\n",
    "            model.load_state_dict(torch.load(f\"models/{config.MODEL_NAME}_{config.FILE_PREFIX}_FOLD{fold}.pth\")[\"state_dict\"])\n",
    "            model.to(device)\n",
    "            model = tta.ClassificationTTAWrapper(model, tta_transforms)\n",
    "            model.eval()\n",
    "            y_logits = []\n",
    "            tk1 = tqdm_notebook(test_loader, total=len(test_loader))\n",
    "            with torch.no_grad():\n",
    "                for x_test in tk1:\n",
    "                    bs = x_test.shape[0]\n",
    "                    scores = model(x_test.to(device))\n",
    "                    y_logits.append((F.sigmoid(scores)))\n",
    "            y_logits = torch.cat(y_logits).cpu().numpy()\n",
    "            np.save(f'test_npys/{config.MODEL_NAME}_{config.FILE_PREFIX}_preds_fold_test_{fold}.npy', y_logits)"
   ]
  },
  {
   "cell_type": "markdown",
   "metadata": {},
   "source": [
    "## Embeddings"
   ]
  },
  {
   "cell_type": "code",
   "execution_count": 17,
   "metadata": {},
   "outputs": [
    {
     "name": "stdout",
     "output_type": "stream",
     "text": [
      "mkdir: cannot create directory ‘class_embeddings’: File exists\r\n"
     ]
    }
   ],
   "source": [
    "mkdir class_embeddings"
   ]
  },
  {
   "cell_type": "code",
   "execution_count": 18,
   "metadata": {},
   "outputs": [],
   "source": [
    "device = torch.device(\"cuda\" if torch.cuda.is_available() else \"cpu\")"
   ]
  },
  {
   "cell_type": "code",
   "execution_count": 19,
   "metadata": {},
   "outputs": [],
   "source": [
    "X = pd.read_csv('new_split.csv')\n",
    "x_train = X\n",
    "y_train = X.wind_speed\n",
    "trainset = DatasetWIND(X, X, transforms = valid_transform, phase = 'val')\n",
    "train_loader = DataLoader(trainset, config.BATCH_SIZE, num_workers=config.WORKERS, shuffle=False, pin_memory=True)"
   ]
  },
  {
   "cell_type": "code",
   "execution_count": 20,
   "metadata": {},
   "outputs": [
    {
     "data": {
      "text/html": [
       "<div>\n",
       "<style scoped>\n",
       "    .dataframe tbody tr th:only-of-type {\n",
       "        vertical-align: middle;\n",
       "    }\n",
       "\n",
       "    .dataframe tbody tr th {\n",
       "        vertical-align: top;\n",
       "    }\n",
       "\n",
       "    .dataframe thead th {\n",
       "        text-align: right;\n",
       "    }\n",
       "</style>\n",
       "<table border=\"1\" class=\"dataframe\">\n",
       "  <thead>\n",
       "    <tr style=\"text-align: right;\">\n",
       "      <th></th>\n",
       "      <th>Unnamed: 0</th>\n",
       "      <th>image_id</th>\n",
       "      <th>storm_id</th>\n",
       "      <th>relative_time</th>\n",
       "      <th>ocean</th>\n",
       "      <th>wind_speed</th>\n",
       "      <th>file_name</th>\n",
       "      <th>fold</th>\n",
       "      <th>images_per_storm</th>\n",
       "      <th>pct_of_storm</th>\n",
       "    </tr>\n",
       "  </thead>\n",
       "  <tbody>\n",
       "    <tr>\n",
       "      <th>0</th>\n",
       "      <td>0</td>\n",
       "      <td>abs_000</td>\n",
       "      <td>abs</td>\n",
       "      <td>0</td>\n",
       "      <td>2</td>\n",
       "      <td>43</td>\n",
       "      <td>data/train/train/abs_000.jpg</td>\n",
       "      <td>4</td>\n",
       "      <td>57</td>\n",
       "      <td>0.000000</td>\n",
       "    </tr>\n",
       "    <tr>\n",
       "      <th>1</th>\n",
       "      <td>1</td>\n",
       "      <td>abs_001</td>\n",
       "      <td>abs</td>\n",
       "      <td>1800</td>\n",
       "      <td>2</td>\n",
       "      <td>44</td>\n",
       "      <td>data/train/train/abs_001.jpg</td>\n",
       "      <td>4</td>\n",
       "      <td>57</td>\n",
       "      <td>0.017544</td>\n",
       "    </tr>\n",
       "    <tr>\n",
       "      <th>2</th>\n",
       "      <td>2</td>\n",
       "      <td>abs_002</td>\n",
       "      <td>abs</td>\n",
       "      <td>5400</td>\n",
       "      <td>2</td>\n",
       "      <td>45</td>\n",
       "      <td>data/train/train/abs_002.jpg</td>\n",
       "      <td>4</td>\n",
       "      <td>57</td>\n",
       "      <td>0.035088</td>\n",
       "    </tr>\n",
       "    <tr>\n",
       "      <th>3</th>\n",
       "      <td>3</td>\n",
       "      <td>abs_003</td>\n",
       "      <td>abs</td>\n",
       "      <td>17999</td>\n",
       "      <td>2</td>\n",
       "      <td>52</td>\n",
       "      <td>data/train/train/abs_003.jpg</td>\n",
       "      <td>4</td>\n",
       "      <td>57</td>\n",
       "      <td>0.052632</td>\n",
       "    </tr>\n",
       "    <tr>\n",
       "      <th>4</th>\n",
       "      <td>4</td>\n",
       "      <td>abs_004</td>\n",
       "      <td>abs</td>\n",
       "      <td>19799</td>\n",
       "      <td>2</td>\n",
       "      <td>53</td>\n",
       "      <td>data/train/train/abs_004.jpg</td>\n",
       "      <td>4</td>\n",
       "      <td>57</td>\n",
       "      <td>0.070175</td>\n",
       "    </tr>\n",
       "  </tbody>\n",
       "</table>\n",
       "</div>"
      ],
      "text/plain": [
       "   Unnamed: 0 image_id storm_id  relative_time  ocean  wind_speed  \\\n",
       "0           0  abs_000      abs              0      2          43   \n",
       "1           1  abs_001      abs           1800      2          44   \n",
       "2           2  abs_002      abs           5400      2          45   \n",
       "3           3  abs_003      abs          17999      2          52   \n",
       "4           4  abs_004      abs          19799      2          53   \n",
       "\n",
       "                      file_name  fold  images_per_storm  pct_of_storm  \n",
       "0  data/train/train/abs_000.jpg     4                57      0.000000  \n",
       "1  data/train/train/abs_001.jpg     4                57      0.017544  \n",
       "2  data/train/train/abs_002.jpg     4                57      0.035088  \n",
       "3  data/train/train/abs_003.jpg     4                57      0.052632  \n",
       "4  data/train/train/abs_004.jpg     4                57      0.070175  "
      ]
     },
     "execution_count": 20,
     "metadata": {},
     "output_type": "execute_result"
    }
   ],
   "source": [
    "X.head()"
   ]
  },
  {
   "cell_type": "code",
   "execution_count": 21,
   "metadata": {},
   "outputs": [],
   "source": [
    "from joblib import Parallel, delayed\n",
    "def temp(i,j):\n",
    "    np.save(f'class_embeddings/{config.MODEL_NAME}_FOLD{fold}_{j}.npy', i)"
   ]
  },
  {
   "cell_type": "code",
   "execution_count": 22,
   "metadata": {
    "scrolled": true
   },
   "outputs": [],
   "source": [
    "if config.MODE in [4]:\n",
    "    for config.MODEL_NAME, config.BATCH_SIZE in zip(config.MODEL_NAMES, config.BATCH_SIZES):\n",
    "        for fold in config.FOLD:\n",
    "            counter = 0 \n",
    "            model = globals()[config.MODEL_NAME](pretrained=False, num_classes=config.NUM_CLASSES)\n",
    "            model.load_state_dict(torch.load(f\"models/{config.MODEL_NAME}_{config.FILE_PREFIX}_FOLD{fold}.pth\")[\"state_dict\"])\n",
    "            model.classifier = nn.Identity()\n",
    "            model.to(device)\n",
    "            model.eval()\n",
    "            tk1 = tqdm_notebook(train_loader, total=len(train_loader))\n",
    "            embeddings = []\n",
    "            with torch.no_grad():\n",
    "                for x_var, y_var in tk1:\n",
    "                    embeddings.extend(model(x_var.to(device)).detach().cpu().numpy())   \n",
    "            a = Parallel(n_jobs=128,prefer='threads')(delayed(temp)(i, j) for i,j in tqdm_notebook(zip(embeddings, X.image_id.values),total=len(embeddings)))"
   ]
  },
  {
   "cell_type": "code",
   "execution_count": 24,
   "metadata": {},
   "outputs": [],
   "source": [
    "x_test = pd.read_csv('data/test_set_features.csv')\n",
    "x_test[\"file_name\"] = \"data/test/test/\"+x_test.image_id+\".jpg\"\n",
    "x_test[\"wind_speed\"] = 0\n",
    "testset = DatasetWIND(x_test, x_test, transforms = valid_transform, phase = 'test')\n",
    "test_loader = DataLoader(testset, config.BATCH_SIZE, num_workers=config.WORKERS, shuffle=False, pin_memory=True)"
   ]
  },
  {
   "cell_type": "code",
   "execution_count": 25,
   "metadata": {
    "scrolled": true
   },
   "outputs": [
    {
     "data": {
      "application/vnd.jupyter.widget-view+json": {
       "model_id": "e6ad4d7c9c6045c3846d922f4cdb49f7",
       "version_major": 2,
       "version_minor": 0
      },
      "text/plain": [
       "HBox(children=(HTML(value=''), FloatProgress(value=0.0, max=1387.0), HTML(value='')))"
      ]
     },
     "metadata": {},
     "output_type": "display_data"
    },
    {
     "name": "stdout",
     "output_type": "stream",
     "text": [
      "\n"
     ]
    },
    {
     "data": {
      "application/vnd.jupyter.widget-view+json": {
       "model_id": "06de17bb46e04aeebcf268acc083c5bd",
       "version_major": 2,
       "version_minor": 0
      },
      "text/plain": [
       "HBox(children=(HTML(value=''), FloatProgress(value=0.0, max=44377.0), HTML(value='')))"
      ]
     },
     "metadata": {},
     "output_type": "display_data"
    },
    {
     "name": "stdout",
     "output_type": "stream",
     "text": [
      "\n"
     ]
    },
    {
     "data": {
      "application/vnd.jupyter.widget-view+json": {
       "model_id": "0250759b405e43068ed25d0c5df55e77",
       "version_major": 2,
       "version_minor": 0
      },
      "text/plain": [
       "HBox(children=(HTML(value=''), FloatProgress(value=0.0, max=1387.0), HTML(value='')))"
      ]
     },
     "metadata": {},
     "output_type": "display_data"
    },
    {
     "name": "stdout",
     "output_type": "stream",
     "text": [
      "\n"
     ]
    },
    {
     "data": {
      "application/vnd.jupyter.widget-view+json": {
       "model_id": "219048a80aaa45d5bd5d99cd9859d7e0",
       "version_major": 2,
       "version_minor": 0
      },
      "text/plain": [
       "HBox(children=(HTML(value=''), FloatProgress(value=0.0, max=44377.0), HTML(value='')))"
      ]
     },
     "metadata": {},
     "output_type": "display_data"
    },
    {
     "name": "stdout",
     "output_type": "stream",
     "text": [
      "\n"
     ]
    },
    {
     "data": {
      "application/vnd.jupyter.widget-view+json": {
       "model_id": "3346213b8c69404faaf751ce8913c8c0",
       "version_major": 2,
       "version_minor": 0
      },
      "text/plain": [
       "HBox(children=(HTML(value=''), FloatProgress(value=0.0, max=1387.0), HTML(value='')))"
      ]
     },
     "metadata": {},
     "output_type": "display_data"
    },
    {
     "name": "stdout",
     "output_type": "stream",
     "text": [
      "\n"
     ]
    },
    {
     "data": {
      "application/vnd.jupyter.widget-view+json": {
       "model_id": "dc7a13a66e0f46f58904bcc8bfa5b4ae",
       "version_major": 2,
       "version_minor": 0
      },
      "text/plain": [
       "HBox(children=(HTML(value=''), FloatProgress(value=0.0, max=44377.0), HTML(value='')))"
      ]
     },
     "metadata": {},
     "output_type": "display_data"
    },
    {
     "name": "stdout",
     "output_type": "stream",
     "text": [
      "\n"
     ]
    },
    {
     "data": {
      "application/vnd.jupyter.widget-view+json": {
       "model_id": "505023bc4a5b44ab93ecb194dea5b6ee",
       "version_major": 2,
       "version_minor": 0
      },
      "text/plain": [
       "HBox(children=(HTML(value=''), FloatProgress(value=0.0, max=1387.0), HTML(value='')))"
      ]
     },
     "metadata": {},
     "output_type": "display_data"
    },
    {
     "name": "stdout",
     "output_type": "stream",
     "text": [
      "\n"
     ]
    },
    {
     "data": {
      "application/vnd.jupyter.widget-view+json": {
       "model_id": "b1737d9f429f4a4fa446eb2746852edf",
       "version_major": 2,
       "version_minor": 0
      },
      "text/plain": [
       "HBox(children=(HTML(value=''), FloatProgress(value=0.0, max=44377.0), HTML(value='')))"
      ]
     },
     "metadata": {},
     "output_type": "display_data"
    },
    {
     "name": "stdout",
     "output_type": "stream",
     "text": [
      "\n"
     ]
    },
    {
     "data": {
      "application/vnd.jupyter.widget-view+json": {
       "model_id": "7b46a1af55a848f3a0bc71258e2d97d6",
       "version_major": 2,
       "version_minor": 0
      },
      "text/plain": [
       "HBox(children=(HTML(value=''), FloatProgress(value=0.0, max=1387.0), HTML(value='')))"
      ]
     },
     "metadata": {},
     "output_type": "display_data"
    },
    {
     "name": "stdout",
     "output_type": "stream",
     "text": [
      "\n"
     ]
    },
    {
     "data": {
      "application/vnd.jupyter.widget-view+json": {
       "model_id": "64fd387244a6423a9a68e981a33c42f5",
       "version_major": 2,
       "version_minor": 0
      },
      "text/plain": [
       "HBox(children=(HTML(value=''), FloatProgress(value=0.0, max=44377.0), HTML(value='')))"
      ]
     },
     "metadata": {},
     "output_type": "display_data"
    },
    {
     "name": "stdout",
     "output_type": "stream",
     "text": [
      "\n"
     ]
    },
    {
     "data": {
      "application/vnd.jupyter.widget-view+json": {
       "model_id": "e397d73599164bb3877c70810cd6bcc5",
       "version_major": 2,
       "version_minor": 0
      },
      "text/plain": [
       "HBox(children=(HTML(value=''), FloatProgress(value=0.0, max=1387.0), HTML(value='')))"
      ]
     },
     "metadata": {},
     "output_type": "display_data"
    },
    {
     "name": "stdout",
     "output_type": "stream",
     "text": [
      "\n"
     ]
    },
    {
     "data": {
      "application/vnd.jupyter.widget-view+json": {
       "model_id": "c62ae711fe5d47abafa2697fbc2dd353",
       "version_major": 2,
       "version_minor": 0
      },
      "text/plain": [
       "HBox(children=(HTML(value=''), FloatProgress(value=0.0, max=44377.0), HTML(value='')))"
      ]
     },
     "metadata": {},
     "output_type": "display_data"
    },
    {
     "name": "stdout",
     "output_type": "stream",
     "text": [
      "\n"
     ]
    },
    {
     "data": {
      "application/vnd.jupyter.widget-view+json": {
       "model_id": "35dbf9cf257d4551838f78586c3b4ded",
       "version_major": 2,
       "version_minor": 0
      },
      "text/plain": [
       "HBox(children=(HTML(value=''), FloatProgress(value=0.0, max=1387.0), HTML(value='')))"
      ]
     },
     "metadata": {},
     "output_type": "display_data"
    },
    {
     "name": "stdout",
     "output_type": "stream",
     "text": [
      "\n"
     ]
    },
    {
     "data": {
      "application/vnd.jupyter.widget-view+json": {
       "model_id": "6d19c644a2d74deca6bb761db9ad7189",
       "version_major": 2,
       "version_minor": 0
      },
      "text/plain": [
       "HBox(children=(HTML(value=''), FloatProgress(value=0.0, max=44377.0), HTML(value='')))"
      ]
     },
     "metadata": {},
     "output_type": "display_data"
    },
    {
     "name": "stdout",
     "output_type": "stream",
     "text": [
      "\n"
     ]
    },
    {
     "data": {
      "application/vnd.jupyter.widget-view+json": {
       "model_id": "cd5a4d6e1bcc410b89c246452123c53f",
       "version_major": 2,
       "version_minor": 0
      },
      "text/plain": [
       "HBox(children=(HTML(value=''), FloatProgress(value=0.0, max=1387.0), HTML(value='')))"
      ]
     },
     "metadata": {},
     "output_type": "display_data"
    },
    {
     "name": "stdout",
     "output_type": "stream",
     "text": [
      "\n"
     ]
    },
    {
     "data": {
      "application/vnd.jupyter.widget-view+json": {
       "model_id": "09873270cd394123a5482f40233011d3",
       "version_major": 2,
       "version_minor": 0
      },
      "text/plain": [
       "HBox(children=(HTML(value=''), FloatProgress(value=0.0, max=44377.0), HTML(value='')))"
      ]
     },
     "metadata": {},
     "output_type": "display_data"
    },
    {
     "name": "stdout",
     "output_type": "stream",
     "text": [
      "\n"
     ]
    },
    {
     "data": {
      "application/vnd.jupyter.widget-view+json": {
       "model_id": "5225793006e5424aaf9c5855e0c98010",
       "version_major": 2,
       "version_minor": 0
      },
      "text/plain": [
       "HBox(children=(HTML(value=''), FloatProgress(value=0.0, max=1387.0), HTML(value='')))"
      ]
     },
     "metadata": {},
     "output_type": "display_data"
    },
    {
     "name": "stdout",
     "output_type": "stream",
     "text": [
      "\n"
     ]
    },
    {
     "data": {
      "application/vnd.jupyter.widget-view+json": {
       "model_id": "be7b0d0ae17f432c999b74f7ce0069a3",
       "version_major": 2,
       "version_minor": 0
      },
      "text/plain": [
       "HBox(children=(HTML(value=''), FloatProgress(value=0.0, max=44377.0), HTML(value='')))"
      ]
     },
     "metadata": {},
     "output_type": "display_data"
    },
    {
     "name": "stdout",
     "output_type": "stream",
     "text": [
      "\n"
     ]
    },
    {
     "data": {
      "application/vnd.jupyter.widget-view+json": {
       "model_id": "fc29c4d5a26c46129434522318e1eb0d",
       "version_major": 2,
       "version_minor": 0
      },
      "text/plain": [
       "HBox(children=(HTML(value=''), FloatProgress(value=0.0, max=1387.0), HTML(value='')))"
      ]
     },
     "metadata": {},
     "output_type": "display_data"
    },
    {
     "name": "stdout",
     "output_type": "stream",
     "text": [
      "\n"
     ]
    },
    {
     "data": {
      "application/vnd.jupyter.widget-view+json": {
       "model_id": "7fdd7f3dce1d44df860faceef3921a06",
       "version_major": 2,
       "version_minor": 0
      },
      "text/plain": [
       "HBox(children=(HTML(value=''), FloatProgress(value=0.0, max=44377.0), HTML(value='')))"
      ]
     },
     "metadata": {},
     "output_type": "display_data"
    },
    {
     "name": "stdout",
     "output_type": "stream",
     "text": [
      "\n"
     ]
    },
    {
     "data": {
      "application/vnd.jupyter.widget-view+json": {
       "model_id": "4e0554e0051b4d8a8f5e996ce8b4baef",
       "version_major": 2,
       "version_minor": 0
      },
      "text/plain": [
       "HBox(children=(HTML(value=''), FloatProgress(value=0.0, max=1387.0), HTML(value='')))"
      ]
     },
     "metadata": {},
     "output_type": "display_data"
    },
    {
     "name": "stdout",
     "output_type": "stream",
     "text": [
      "\n"
     ]
    },
    {
     "data": {
      "application/vnd.jupyter.widget-view+json": {
       "model_id": "429c38526bbb4932b1e6ed02b1111a95",
       "version_major": 2,
       "version_minor": 0
      },
      "text/plain": [
       "HBox(children=(HTML(value=''), FloatProgress(value=0.0, max=44377.0), HTML(value='')))"
      ]
     },
     "metadata": {},
     "output_type": "display_data"
    },
    {
     "name": "stdout",
     "output_type": "stream",
     "text": [
      "\n"
     ]
    },
    {
     "data": {
      "application/vnd.jupyter.widget-view+json": {
       "model_id": "b8a85726e36c4009853874791b7c4454",
       "version_major": 2,
       "version_minor": 0
      },
      "text/plain": [
       "HBox(children=(HTML(value=''), FloatProgress(value=0.0, max=1387.0), HTML(value='')))"
      ]
     },
     "metadata": {},
     "output_type": "display_data"
    },
    {
     "name": "stdout",
     "output_type": "stream",
     "text": [
      "\n"
     ]
    },
    {
     "data": {
      "application/vnd.jupyter.widget-view+json": {
       "model_id": "621dd20e2da44d41aa8d0f6e71d24d0a",
       "version_major": 2,
       "version_minor": 0
      },
      "text/plain": [
       "HBox(children=(HTML(value=''), FloatProgress(value=0.0, max=44377.0), HTML(value='')))"
      ]
     },
     "metadata": {},
     "output_type": "display_data"
    },
    {
     "name": "stdout",
     "output_type": "stream",
     "text": [
      "\n"
     ]
    },
    {
     "data": {
      "application/vnd.jupyter.widget-view+json": {
       "model_id": "38f767aad52746e2bcd00d1aa320298e",
       "version_major": 2,
       "version_minor": 0
      },
      "text/plain": [
       "HBox(children=(HTML(value=''), FloatProgress(value=0.0, max=1387.0), HTML(value='')))"
      ]
     },
     "metadata": {},
     "output_type": "display_data"
    },
    {
     "name": "stdout",
     "output_type": "stream",
     "text": [
      "\n"
     ]
    },
    {
     "data": {
      "application/vnd.jupyter.widget-view+json": {
       "model_id": "21140dae0f3e40848f2bc1fdda31f354",
       "version_major": 2,
       "version_minor": 0
      },
      "text/plain": [
       "HBox(children=(HTML(value=''), FloatProgress(value=0.0, max=44377.0), HTML(value='')))"
      ]
     },
     "metadata": {},
     "output_type": "display_data"
    },
    {
     "name": "stdout",
     "output_type": "stream",
     "text": [
      "\n"
     ]
    },
    {
     "data": {
      "application/vnd.jupyter.widget-view+json": {
       "model_id": "c2ac52ab0aa540e88a411e42ceed5f24",
       "version_major": 2,
       "version_minor": 0
      },
      "text/plain": [
       "HBox(children=(HTML(value=''), FloatProgress(value=0.0, max=1387.0), HTML(value='')))"
      ]
     },
     "metadata": {},
     "output_type": "display_data"
    },
    {
     "name": "stdout",
     "output_type": "stream",
     "text": [
      "\n"
     ]
    },
    {
     "data": {
      "application/vnd.jupyter.widget-view+json": {
       "model_id": "85d18f5d110243e9a0abe1eb9475ce53",
       "version_major": 2,
       "version_minor": 0
      },
      "text/plain": [
       "HBox(children=(HTML(value=''), FloatProgress(value=0.0, max=44377.0), HTML(value='')))"
      ]
     },
     "metadata": {},
     "output_type": "display_data"
    },
    {
     "name": "stdout",
     "output_type": "stream",
     "text": [
      "\n"
     ]
    },
    {
     "data": {
      "application/vnd.jupyter.widget-view+json": {
       "model_id": "a9ac29c1f7b74116b369f0376c26c385",
       "version_major": 2,
       "version_minor": 0
      },
      "text/plain": [
       "HBox(children=(HTML(value=''), FloatProgress(value=0.0, max=1387.0), HTML(value='')))"
      ]
     },
     "metadata": {},
     "output_type": "display_data"
    },
    {
     "name": "stdout",
     "output_type": "stream",
     "text": [
      "\n"
     ]
    },
    {
     "data": {
      "application/vnd.jupyter.widget-view+json": {
       "model_id": "c7b6a91cba224828aa6cfe519665e7e3",
       "version_major": 2,
       "version_minor": 0
      },
      "text/plain": [
       "HBox(children=(HTML(value=''), FloatProgress(value=0.0, max=44377.0), HTML(value='')))"
      ]
     },
     "metadata": {},
     "output_type": "display_data"
    },
    {
     "name": "stdout",
     "output_type": "stream",
     "text": [
      "\n"
     ]
    },
    {
     "data": {
      "application/vnd.jupyter.widget-view+json": {
       "model_id": "1ffb0b88e0954338a6fac0e91cd4fc66",
       "version_major": 2,
       "version_minor": 0
      },
      "text/plain": [
       "HBox(children=(HTML(value=''), FloatProgress(value=0.0, max=1387.0), HTML(value='')))"
      ]
     },
     "metadata": {},
     "output_type": "display_data"
    },
    {
     "name": "stdout",
     "output_type": "stream",
     "text": [
      "\n"
     ]
    },
    {
     "data": {
      "application/vnd.jupyter.widget-view+json": {
       "model_id": "1f41ad1d2d2b4febbd6dd96648dff05d",
       "version_major": 2,
       "version_minor": 0
      },
      "text/plain": [
       "HBox(children=(HTML(value=''), FloatProgress(value=0.0, max=44377.0), HTML(value='')))"
      ]
     },
     "metadata": {},
     "output_type": "display_data"
    },
    {
     "name": "stdout",
     "output_type": "stream",
     "text": [
      "\n"
     ]
    },
    {
     "data": {
      "application/vnd.jupyter.widget-view+json": {
       "model_id": "2809379578784975a1c0cfae74d68e45",
       "version_major": 2,
       "version_minor": 0
      },
      "text/plain": [
       "HBox(children=(HTML(value=''), FloatProgress(value=0.0, max=1387.0), HTML(value='')))"
      ]
     },
     "metadata": {},
     "output_type": "display_data"
    },
    {
     "name": "stdout",
     "output_type": "stream",
     "text": [
      "\n"
     ]
    },
    {
     "data": {
      "application/vnd.jupyter.widget-view+json": {
       "model_id": "e7e33381955c4dbc821d5cbf79a2cc4a",
       "version_major": 2,
       "version_minor": 0
      },
      "text/plain": [
       "HBox(children=(HTML(value=''), FloatProgress(value=0.0, max=44377.0), HTML(value='')))"
      ]
     },
     "metadata": {},
     "output_type": "display_data"
    },
    {
     "name": "stdout",
     "output_type": "stream",
     "text": [
      "\n"
     ]
    },
    {
     "data": {
      "application/vnd.jupyter.widget-view+json": {
       "model_id": "c9c4dca742df4881936fedbd16391195",
       "version_major": 2,
       "version_minor": 0
      },
      "text/plain": [
       "HBox(children=(HTML(value=''), FloatProgress(value=0.0, max=1387.0), HTML(value='')))"
      ]
     },
     "metadata": {},
     "output_type": "display_data"
    },
    {
     "name": "stdout",
     "output_type": "stream",
     "text": [
      "\n"
     ]
    },
    {
     "data": {
      "application/vnd.jupyter.widget-view+json": {
       "model_id": "e7be38e1c0ad4df9acf1e9c7372a142b",
       "version_major": 2,
       "version_minor": 0
      },
      "text/plain": [
       "HBox(children=(HTML(value=''), FloatProgress(value=0.0, max=44377.0), HTML(value='')))"
      ]
     },
     "metadata": {},
     "output_type": "display_data"
    },
    {
     "name": "stdout",
     "output_type": "stream",
     "text": [
      "\n"
     ]
    },
    {
     "data": {
      "application/vnd.jupyter.widget-view+json": {
       "model_id": "c8c075461477406e95fc2fa814035b52",
       "version_major": 2,
       "version_minor": 0
      },
      "text/plain": [
       "HBox(children=(HTML(value=''), FloatProgress(value=0.0, max=1387.0), HTML(value='')))"
      ]
     },
     "metadata": {},
     "output_type": "display_data"
    },
    {
     "name": "stdout",
     "output_type": "stream",
     "text": [
      "\n"
     ]
    },
    {
     "data": {
      "application/vnd.jupyter.widget-view+json": {
       "model_id": "55eeb35a776d43c1b5f172dd1fd6fb06",
       "version_major": 2,
       "version_minor": 0
      },
      "text/plain": [
       "HBox(children=(HTML(value=''), FloatProgress(value=0.0, max=44377.0), HTML(value='')))"
      ]
     },
     "metadata": {},
     "output_type": "display_data"
    },
    {
     "name": "stdout",
     "output_type": "stream",
     "text": [
      "\n"
     ]
    },
    {
     "data": {
      "application/vnd.jupyter.widget-view+json": {
       "model_id": "c2e2f5ec0d144d78b165a0c8b15c7563",
       "version_major": 2,
       "version_minor": 0
      },
      "text/plain": [
       "HBox(children=(HTML(value=''), FloatProgress(value=0.0, max=1387.0), HTML(value='')))"
      ]
     },
     "metadata": {},
     "output_type": "display_data"
    },
    {
     "name": "stdout",
     "output_type": "stream",
     "text": [
      "\n"
     ]
    },
    {
     "data": {
      "application/vnd.jupyter.widget-view+json": {
       "model_id": "9e971dbff41948879def208b0be78e7c",
       "version_major": 2,
       "version_minor": 0
      },
      "text/plain": [
       "HBox(children=(HTML(value=''), FloatProgress(value=0.0, max=44377.0), HTML(value='')))"
      ]
     },
     "metadata": {},
     "output_type": "display_data"
    },
    {
     "name": "stdout",
     "output_type": "stream",
     "text": [
      "\n"
     ]
    },
    {
     "data": {
      "application/vnd.jupyter.widget-view+json": {
       "model_id": "ff34eaac160642be939f5e05a9a6a685",
       "version_major": 2,
       "version_minor": 0
      },
      "text/plain": [
       "HBox(children=(HTML(value=''), FloatProgress(value=0.0, max=1387.0), HTML(value='')))"
      ]
     },
     "metadata": {},
     "output_type": "display_data"
    },
    {
     "name": "stdout",
     "output_type": "stream",
     "text": [
      "\n"
     ]
    },
    {
     "data": {
      "application/vnd.jupyter.widget-view+json": {
       "model_id": "aef66162b06a4f3ebd73328f0bc9fbe3",
       "version_major": 2,
       "version_minor": 0
      },
      "text/plain": [
       "HBox(children=(HTML(value=''), FloatProgress(value=0.0, max=44377.0), HTML(value='')))"
      ]
     },
     "metadata": {},
     "output_type": "display_data"
    },
    {
     "name": "stdout",
     "output_type": "stream",
     "text": [
      "\n"
     ]
    },
    {
     "data": {
      "application/vnd.jupyter.widget-view+json": {
       "model_id": "2a2fe046ce5843bbb3ec22bf7ea14137",
       "version_major": 2,
       "version_minor": 0
      },
      "text/plain": [
       "HBox(children=(HTML(value=''), FloatProgress(value=0.0, max=1387.0), HTML(value='')))"
      ]
     },
     "metadata": {},
     "output_type": "display_data"
    },
    {
     "name": "stdout",
     "output_type": "stream",
     "text": [
      "\n"
     ]
    },
    {
     "data": {
      "application/vnd.jupyter.widget-view+json": {
       "model_id": "90f17e9661074c21bb3cd16f49f4502c",
       "version_major": 2,
       "version_minor": 0
      },
      "text/plain": [
       "HBox(children=(HTML(value=''), FloatProgress(value=0.0, max=44377.0), HTML(value='')))"
      ]
     },
     "metadata": {},
     "output_type": "display_data"
    },
    {
     "name": "stdout",
     "output_type": "stream",
     "text": [
      "\n"
     ]
    },
    {
     "data": {
      "application/vnd.jupyter.widget-view+json": {
       "model_id": "6c72184a7f144157b77cae570e29778f",
       "version_major": 2,
       "version_minor": 0
      },
      "text/plain": [
       "HBox(children=(HTML(value=''), FloatProgress(value=0.0, max=1387.0), HTML(value='')))"
      ]
     },
     "metadata": {},
     "output_type": "display_data"
    },
    {
     "name": "stdout",
     "output_type": "stream",
     "text": [
      "\n"
     ]
    },
    {
     "data": {
      "application/vnd.jupyter.widget-view+json": {
       "model_id": "c9e253650872411b9ae76ba243fca3e1",
       "version_major": 2,
       "version_minor": 0
      },
      "text/plain": [
       "HBox(children=(HTML(value=''), FloatProgress(value=0.0, max=44377.0), HTML(value='')))"
      ]
     },
     "metadata": {},
     "output_type": "display_data"
    },
    {
     "name": "stdout",
     "output_type": "stream",
     "text": [
      "\n"
     ]
    },
    {
     "data": {
      "application/vnd.jupyter.widget-view+json": {
       "model_id": "4222c84f063149919c8e2b897deb26fe",
       "version_major": 2,
       "version_minor": 0
      },
      "text/plain": [
       "HBox(children=(HTML(value=''), FloatProgress(value=0.0, max=1387.0), HTML(value='')))"
      ]
     },
     "metadata": {},
     "output_type": "display_data"
    },
    {
     "name": "stdout",
     "output_type": "stream",
     "text": [
      "\n"
     ]
    },
    {
     "data": {
      "application/vnd.jupyter.widget-view+json": {
       "model_id": "0b4469b2c9a546099020ec75487bc731",
       "version_major": 2,
       "version_minor": 0
      },
      "text/plain": [
       "HBox(children=(HTML(value=''), FloatProgress(value=0.0, max=44377.0), HTML(value='')))"
      ]
     },
     "metadata": {},
     "output_type": "display_data"
    },
    {
     "name": "stdout",
     "output_type": "stream",
     "text": [
      "\n"
     ]
    },
    {
     "data": {
      "application/vnd.jupyter.widget-view+json": {
       "model_id": "2eb9af4d629b424e8e29e9e8693d6a55",
       "version_major": 2,
       "version_minor": 0
      },
      "text/plain": [
       "HBox(children=(HTML(value=''), FloatProgress(value=0.0, max=1387.0), HTML(value='')))"
      ]
     },
     "metadata": {},
     "output_type": "display_data"
    },
    {
     "name": "stdout",
     "output_type": "stream",
     "text": [
      "\n"
     ]
    },
    {
     "data": {
      "application/vnd.jupyter.widget-view+json": {
       "model_id": "4c8a07ad6742489495ce421761464736",
       "version_major": 2,
       "version_minor": 0
      },
      "text/plain": [
       "HBox(children=(HTML(value=''), FloatProgress(value=0.0, max=44377.0), HTML(value='')))"
      ]
     },
     "metadata": {},
     "output_type": "display_data"
    },
    {
     "name": "stdout",
     "output_type": "stream",
     "text": [
      "\n"
     ]
    },
    {
     "data": {
      "application/vnd.jupyter.widget-view+json": {
       "model_id": "51a60bc43632413a80e38da5ee3e6b72",
       "version_major": 2,
       "version_minor": 0
      },
      "text/plain": [
       "HBox(children=(HTML(value=''), FloatProgress(value=0.0, max=1387.0), HTML(value='')))"
      ]
     },
     "metadata": {},
     "output_type": "display_data"
    },
    {
     "name": "stdout",
     "output_type": "stream",
     "text": [
      "\n"
     ]
    },
    {
     "data": {
      "application/vnd.jupyter.widget-view+json": {
       "model_id": "bfe38996c6c7424abee10947b8c770dc",
       "version_major": 2,
       "version_minor": 0
      },
      "text/plain": [
       "HBox(children=(HTML(value=''), FloatProgress(value=0.0, max=44377.0), HTML(value='')))"
      ]
     },
     "metadata": {},
     "output_type": "display_data"
    },
    {
     "name": "stdout",
     "output_type": "stream",
     "text": [
      "\n"
     ]
    },
    {
     "data": {
      "application/vnd.jupyter.widget-view+json": {
       "model_id": "8102eeb122aa4854a53f55f01f35c454",
       "version_major": 2,
       "version_minor": 0
      },
      "text/plain": [
       "HBox(children=(HTML(value=''), FloatProgress(value=0.0, max=1387.0), HTML(value='')))"
      ]
     },
     "metadata": {},
     "output_type": "display_data"
    },
    {
     "name": "stdout",
     "output_type": "stream",
     "text": [
      "\n"
     ]
    },
    {
     "data": {
      "application/vnd.jupyter.widget-view+json": {
       "model_id": "d3516274c6a44a1a98d77396ca4b9539",
       "version_major": 2,
       "version_minor": 0
      },
      "text/plain": [
       "HBox(children=(HTML(value=''), FloatProgress(value=0.0, max=44377.0), HTML(value='')))"
      ]
     },
     "metadata": {},
     "output_type": "display_data"
    },
    {
     "name": "stdout",
     "output_type": "stream",
     "text": [
      "\n"
     ]
    },
    {
     "data": {
      "application/vnd.jupyter.widget-view+json": {
       "model_id": "edc7820bc63642a996389e2f8c1a2833",
       "version_major": 2,
       "version_minor": 0
      },
      "text/plain": [
       "HBox(children=(HTML(value=''), FloatProgress(value=0.0, max=1387.0), HTML(value='')))"
      ]
     },
     "metadata": {},
     "output_type": "display_data"
    },
    {
     "name": "stdout",
     "output_type": "stream",
     "text": [
      "\n"
     ]
    },
    {
     "data": {
      "application/vnd.jupyter.widget-view+json": {
       "model_id": "68acd9b1c8bd4a55902856ef035a9040",
       "version_major": 2,
       "version_minor": 0
      },
      "text/plain": [
       "HBox(children=(HTML(value=''), FloatProgress(value=0.0, max=44377.0), HTML(value='')))"
      ]
     },
     "metadata": {},
     "output_type": "display_data"
    },
    {
     "name": "stdout",
     "output_type": "stream",
     "text": [
      "\n"
     ]
    },
    {
     "data": {
      "application/vnd.jupyter.widget-view+json": {
       "model_id": "8c3227a988174c3588dca37e729a3b1f",
       "version_major": 2,
       "version_minor": 0
      },
      "text/plain": [
       "HBox(children=(HTML(value=''), FloatProgress(value=0.0, max=1387.0), HTML(value='')))"
      ]
     },
     "metadata": {},
     "output_type": "display_data"
    },
    {
     "name": "stdout",
     "output_type": "stream",
     "text": [
      "\n"
     ]
    },
    {
     "data": {
      "application/vnd.jupyter.widget-view+json": {
       "model_id": "687dcbb21946404cae559818cf6c657f",
       "version_major": 2,
       "version_minor": 0
      },
      "text/plain": [
       "HBox(children=(HTML(value=''), FloatProgress(value=0.0, max=44377.0), HTML(value='')))"
      ]
     },
     "metadata": {},
     "output_type": "display_data"
    },
    {
     "name": "stdout",
     "output_type": "stream",
     "text": [
      "\n"
     ]
    },
    {
     "data": {
      "application/vnd.jupyter.widget-view+json": {
       "model_id": "7da3d6d02da642dcacf0f6480625c849",
       "version_major": 2,
       "version_minor": 0
      },
      "text/plain": [
       "HBox(children=(HTML(value=''), FloatProgress(value=0.0, max=1387.0), HTML(value='')))"
      ]
     },
     "metadata": {},
     "output_type": "display_data"
    },
    {
     "name": "stdout",
     "output_type": "stream",
     "text": [
      "\n"
     ]
    },
    {
     "data": {
      "application/vnd.jupyter.widget-view+json": {
       "model_id": "976d19ac3bc14399a8621f6456ea40cc",
       "version_major": 2,
       "version_minor": 0
      },
      "text/plain": [
       "HBox(children=(HTML(value=''), FloatProgress(value=0.0, max=44377.0), HTML(value='')))"
      ]
     },
     "metadata": {},
     "output_type": "display_data"
    },
    {
     "name": "stdout",
     "output_type": "stream",
     "text": [
      "\n"
     ]
    }
   ],
   "source": [
    "if config.MODE in [6]:\n",
    "    for config.MODEL_NAME, config.BATCH_SIZE in zip(config.MODEL_NAMES, config.BATCH_SIZES):\n",
    "        for fold in config.FOLD:\n",
    "            counter = 0 \n",
    "            model = globals()[config.MODEL_NAME](pretrained=False, num_classes=config.NUM_CLASSES)\n",
    "            model.load_state_dict(torch.load(f\"models/{config.MODEL_NAME}_{config.FILE_PREFIX}_FOLD{fold}.pth\")[\"state_dict\"])\n",
    "            model.classifier = nn.Identity()\n",
    "            model.to(device)\n",
    "            model.eval()\n",
    "            tk1 = tqdm_notebook(test_loader, total=len(test_loader))\n",
    "            embeddings = []\n",
    "            with torch.no_grad():\n",
    "                for x_var, y_var in tk1:\n",
    "                    embeddings.extend(model(x_var.to(device)).detach().cpu().numpy())   \n",
    "            Parallel(n_jobs=32,prefer='threads')(delayed(temp)(i, j) for i,j in tqdm_notebook(zip(embeddings, x_test.image_id.values),total=len(embeddings)))"
   ]
  },
  {
   "cell_type": "code",
   "execution_count": null,
   "metadata": {},
   "outputs": [],
   "source": []
  }
 ],
 "metadata": {
  "kernelspec": {
   "display_name": "Python 3",
   "language": "python",
   "name": "python3"
  },
  "language_info": {
   "codemirror_mode": {
    "name": "ipython",
    "version": 3
   },
   "file_extension": ".py",
   "mimetype": "text/x-python",
   "name": "python",
   "nbconvert_exporter": "python",
   "pygments_lexer": "ipython3",
   "version": "3.7.8"
  }
 },
 "nbformat": 4,
 "nbformat_minor": 4
}
